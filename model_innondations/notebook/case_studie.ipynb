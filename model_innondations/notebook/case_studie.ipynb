{
 "cells": [
  {
   "cell_type": "markdown",
   "metadata": {},
   "source": [
    "# Étude de Cas - France"
   ]
  },
  {
   "cell_type": "markdown",
   "metadata": {},
   "source": [
    "Dans ce notebook nous allons essayer de découvrire les variables qui influence sur l'apparition d'inondation en France\n",
    "\n",
    "## Étape 1 : Données de précipitation\n",
    "\n",
    "Dans un premier temps nous n'avons que les précipitations moyennes par mois ce qui n'est pas très représentatitif. En effet, les inondations sont plus du à des précipitations intenses.\n",
    "Mais basons nous sur les données \"../../datasets/precipitation\""
   ]
  },
  {
   "cell_type": "code",
   "execution_count": 4,
   "metadata": {},
   "outputs": [],
   "source": [
    "import pandas as pd\n",
    "import matplotlib.pyplot as plt\n",
    "import seaborn as sns"
   ]
  },
  {
   "cell_type": "code",
   "execution_count": 5,
   "metadata": {},
   "outputs": [],
   "source": [
    "DATASET_FOLDER = '../../datasets/'"
   ]
  },
  {
   "cell_type": "code",
   "execution_count": 6,
   "metadata": {},
   "outputs": [
    {
     "data": {
      "text/html": [
       "<div>\n",
       "<style scoped>\n",
       "    .dataframe tbody tr th:only-of-type {\n",
       "        vertical-align: middle;\n",
       "    }\n",
       "\n",
       "    .dataframe tbody tr th {\n",
       "        vertical-align: top;\n",
       "    }\n",
       "\n",
       "    .dataframe thead th {\n",
       "        text-align: right;\n",
       "    }\n",
       "</style>\n",
       "<table border=\"1\" class=\"dataframe\">\n",
       "  <thead>\n",
       "    <tr style=\"text-align: right;\">\n",
       "      <th></th>\n",
       "      <th>Rainfall - (MM)</th>\n",
       "      <th>Year</th>\n",
       "      <th>Statistics</th>\n",
       "      <th>Country</th>\n",
       "      <th>ISO3</th>\n",
       "    </tr>\n",
       "  </thead>\n",
       "  <tbody>\n",
       "    <tr>\n",
       "      <th>0</th>\n",
       "      <td>40.9290</td>\n",
       "      <td>1901</td>\n",
       "      <td>Jan Average</td>\n",
       "      <td>France</td>\n",
       "      <td>FRA</td>\n",
       "    </tr>\n",
       "    <tr>\n",
       "      <th>1</th>\n",
       "      <td>34.7865</td>\n",
       "      <td>1901</td>\n",
       "      <td>Feb Average</td>\n",
       "      <td>France</td>\n",
       "      <td>FRA</td>\n",
       "    </tr>\n",
       "    <tr>\n",
       "      <th>2</th>\n",
       "      <td>90.9714</td>\n",
       "      <td>1901</td>\n",
       "      <td>Mar Average</td>\n",
       "      <td>France</td>\n",
       "      <td>FRA</td>\n",
       "    </tr>\n",
       "    <tr>\n",
       "      <th>3</th>\n",
       "      <td>83.1600</td>\n",
       "      <td>1901</td>\n",
       "      <td>Apr Average</td>\n",
       "      <td>France</td>\n",
       "      <td>FRA</td>\n",
       "    </tr>\n",
       "    <tr>\n",
       "      <th>4</th>\n",
       "      <td>42.6287</td>\n",
       "      <td>1901</td>\n",
       "      <td>May Average</td>\n",
       "      <td>France</td>\n",
       "      <td>FRA</td>\n",
       "    </tr>\n",
       "  </tbody>\n",
       "</table>\n",
       "</div>"
      ],
      "text/plain": [
       "   Rainfall - (MM)   Year    Statistics  Country  ISO3\n",
       "0          40.9290   1901   Jan Average   France   FRA\n",
       "1          34.7865   1901   Feb Average   France   FRA\n",
       "2          90.9714   1901   Mar Average   France   FRA\n",
       "3          83.1600   1901   Apr Average   France   FRA\n",
       "4          42.6287   1901   May Average   France   FRA"
      ]
     },
     "execution_count": 6,
     "metadata": {},
     "output_type": "execute_result"
    }
   ],
   "source": [
    "past_time_series = [\"1901-1930\", \"1931-1960\", \"1961-1990\", \"1901-2016\", \"1991-2016\"]\n",
    "futu_time_series = [\"2020_2039\", \"2040_2059\", \"2060_2079\", \"2080_2099\"]\n",
    "\n",
    "df_pre = pd.DataFrame()\n",
    "\n",
    "for period in past_time_series:\n",
    "    df_temp = pd.read_csv(f'{DATASET_FOLDER}/precipitation/historical_{period}_FRA_France.csv')\n",
    "    df_pre = df_pre.append(df_temp)\n",
    "df_pre.head()"
   ]
  },
  {
   "cell_type": "markdown",
   "metadata": {},
   "source": [
    "# Étape 2 : Données de désastre\n",
    "\n",
    "Nous allons comparer les données des désastres à celle des précipitations"
   ]
  },
  {
   "cell_type": "code",
   "execution_count": 7,
   "metadata": {},
   "outputs": [],
   "source": [
    "df_des = pd.read_excel('../../datasets/emdat_public_2020_09_12_query_uid-tAnKEX.xlsx', index_col=0)\n",
    "\n",
    "# Mise en forme de la dataframe (les premières lignes ne nous interessent pas)\n",
    "df_des.columns = list(df_des.iloc[5])\n",
    "df_des = df_des.iloc[6:]\n",
    "\n",
    "# On ne prends que les désatres de type inondations\n",
    "df_des = df_des[df_des['Disaster Type'] == 'Flood']"
   ]
  },
  {
   "cell_type": "markdown",
   "metadata": {},
   "source": [
    "Dans notre cas on va utiliser que les données sur la France.\n",
    "Et comme on a que les mois de précipitations on ne va garder que cela."
   ]
  },
  {
   "cell_type": "code",
   "execution_count": 8,
   "metadata": {},
   "outputs": [],
   "source": [
    "df_des_fr = df_des[df_des['Country'] == 'France'][['Year', 'Start Month']]"
   ]
  },
  {
   "cell_type": "code",
   "execution_count": 9,
   "metadata": {},
   "outputs": [
    {
     "data": {
      "text/html": [
       "<div>\n",
       "<style scoped>\n",
       "    .dataframe tbody tr th:only-of-type {\n",
       "        vertical-align: middle;\n",
       "    }\n",
       "\n",
       "    .dataframe tbody tr th {\n",
       "        vertical-align: top;\n",
       "    }\n",
       "\n",
       "    .dataframe thead th {\n",
       "        text-align: right;\n",
       "    }\n",
       "</style>\n",
       "<table border=\"1\" class=\"dataframe\">\n",
       "  <thead>\n",
       "    <tr style=\"text-align: right;\">\n",
       "      <th></th>\n",
       "      <th>Year</th>\n",
       "      <th>Start Month</th>\n",
       "    </tr>\n",
       "    <tr>\n",
       "      <th>Source:</th>\n",
       "      <th></th>\n",
       "      <th></th>\n",
       "    </tr>\n",
       "  </thead>\n",
       "  <tbody>\n",
       "    <tr>\n",
       "      <th>1958-0039-FRA</th>\n",
       "      <td>1958</td>\n",
       "      <td>9</td>\n",
       "    </tr>\n",
       "    <tr>\n",
       "      <th>1977-0084-FRA</th>\n",
       "      <td>1977</td>\n",
       "      <td>7</td>\n",
       "    </tr>\n",
       "    <tr>\n",
       "      <th>1978-0010-FRA</th>\n",
       "      <td>1978</td>\n",
       "      <td>1</td>\n",
       "    </tr>\n",
       "    <tr>\n",
       "      <th>1980-0237-FRA</th>\n",
       "      <td>1980</td>\n",
       "      <td>9</td>\n",
       "    </tr>\n",
       "    <tr>\n",
       "      <th>1981-0217-FRA</th>\n",
       "      <td>1981</td>\n",
       "      <td>12</td>\n",
       "    </tr>\n",
       "  </tbody>\n",
       "</table>\n",
       "</div>"
      ],
      "text/plain": [
       "               Year Start Month\n",
       "Source:                        \n",
       "1958-0039-FRA  1958           9\n",
       "1977-0084-FRA  1977           7\n",
       "1978-0010-FRA  1978           1\n",
       "1980-0237-FRA  1980           9\n",
       "1981-0217-FRA  1981          12"
      ]
     },
     "execution_count": 9,
     "metadata": {},
     "output_type": "execute_result"
    }
   ],
   "source": [
    "df_des_fr.head()"
   ]
  },
  {
   "cell_type": "markdown",
   "metadata": {},
   "source": [
    "## Étape 3 : Croiser les données\n",
    "\n",
    "On va maintenant croiser les deux bases de données et appliquer des outils statistques pour voir si la précipitation à un lien avec les désastres.\n",
    "Pour cela on crée une variable communes : XX - XXXX (mois-année)"
   ]
  },
  {
   "cell_type": "code",
   "execution_count": 10,
   "metadata": {},
   "outputs": [],
   "source": [
    "def abreviation2nombre(abr):\n",
    "    lst_abr = ['Jan', 'Feb', 'Mar', 'Apr', 'May', 'Jun', 'Jul', 'Aug', 'Sep', 'Oct', 'Nov', 'Dec']\n",
    "    return(lst_abr.index(abr)+1)"
   ]
  },
  {
   "cell_type": "code",
   "execution_count": 11,
   "metadata": {},
   "outputs": [],
   "source": [
    "df_pre['Month'] = df_pre[' Statistics'].str[:4].apply(lambda x: abreviation2nombre(x.strip()))\n",
    "\n",
    "df_pre['Date'] = df_pre[['Month',' Year']].apply(lambda x: f'{x[0]:0>2}-{x[1]}', axis=1)"
   ]
  },
  {
   "cell_type": "code",
   "execution_count": 12,
   "metadata": {},
   "outputs": [
    {
     "data": {
      "text/html": [
       "<div>\n",
       "<style scoped>\n",
       "    .dataframe tbody tr th:only-of-type {\n",
       "        vertical-align: middle;\n",
       "    }\n",
       "\n",
       "    .dataframe tbody tr th {\n",
       "        vertical-align: top;\n",
       "    }\n",
       "\n",
       "    .dataframe thead th {\n",
       "        text-align: right;\n",
       "    }\n",
       "</style>\n",
       "<table border=\"1\" class=\"dataframe\">\n",
       "  <thead>\n",
       "    <tr style=\"text-align: right;\">\n",
       "      <th></th>\n",
       "      <th>Rainfall - (MM)</th>\n",
       "      <th>Year</th>\n",
       "      <th>Statistics</th>\n",
       "      <th>Country</th>\n",
       "      <th>ISO3</th>\n",
       "      <th>Month</th>\n",
       "      <th>Date</th>\n",
       "    </tr>\n",
       "  </thead>\n",
       "  <tbody>\n",
       "    <tr>\n",
       "      <th>0</th>\n",
       "      <td>40.9290</td>\n",
       "      <td>1901</td>\n",
       "      <td>Jan Average</td>\n",
       "      <td>France</td>\n",
       "      <td>FRA</td>\n",
       "      <td>1</td>\n",
       "      <td>01-1901</td>\n",
       "    </tr>\n",
       "    <tr>\n",
       "      <th>1</th>\n",
       "      <td>34.7865</td>\n",
       "      <td>1901</td>\n",
       "      <td>Feb Average</td>\n",
       "      <td>France</td>\n",
       "      <td>FRA</td>\n",
       "      <td>2</td>\n",
       "      <td>02-1901</td>\n",
       "    </tr>\n",
       "    <tr>\n",
       "      <th>2</th>\n",
       "      <td>90.9714</td>\n",
       "      <td>1901</td>\n",
       "      <td>Mar Average</td>\n",
       "      <td>France</td>\n",
       "      <td>FRA</td>\n",
       "      <td>3</td>\n",
       "      <td>03-1901</td>\n",
       "    </tr>\n",
       "    <tr>\n",
       "      <th>3</th>\n",
       "      <td>83.1600</td>\n",
       "      <td>1901</td>\n",
       "      <td>Apr Average</td>\n",
       "      <td>France</td>\n",
       "      <td>FRA</td>\n",
       "      <td>4</td>\n",
       "      <td>04-1901</td>\n",
       "    </tr>\n",
       "    <tr>\n",
       "      <th>4</th>\n",
       "      <td>42.6287</td>\n",
       "      <td>1901</td>\n",
       "      <td>May Average</td>\n",
       "      <td>France</td>\n",
       "      <td>FRA</td>\n",
       "      <td>5</td>\n",
       "      <td>05-1901</td>\n",
       "    </tr>\n",
       "    <tr>\n",
       "      <th>...</th>\n",
       "      <td>...</td>\n",
       "      <td>...</td>\n",
       "      <td>...</td>\n",
       "      <td>...</td>\n",
       "      <td>...</td>\n",
       "      <td>...</td>\n",
       "      <td>...</td>\n",
       "    </tr>\n",
       "    <tr>\n",
       "      <th>307</th>\n",
       "      <td>24.9382</td>\n",
       "      <td>2016</td>\n",
       "      <td>Aug Average</td>\n",
       "      <td>France</td>\n",
       "      <td>FRA</td>\n",
       "      <td>8</td>\n",
       "      <td>08-2016</td>\n",
       "    </tr>\n",
       "    <tr>\n",
       "      <th>308</th>\n",
       "      <td>39.8369</td>\n",
       "      <td>2016</td>\n",
       "      <td>Sep Average</td>\n",
       "      <td>France</td>\n",
       "      <td>FRA</td>\n",
       "      <td>9</td>\n",
       "      <td>09-2016</td>\n",
       "    </tr>\n",
       "    <tr>\n",
       "      <th>309</th>\n",
       "      <td>61.6580</td>\n",
       "      <td>2016</td>\n",
       "      <td>Oct Average</td>\n",
       "      <td>France</td>\n",
       "      <td>FRA</td>\n",
       "      <td>10</td>\n",
       "      <td>10-2016</td>\n",
       "    </tr>\n",
       "    <tr>\n",
       "      <th>310</th>\n",
       "      <td>95.7876</td>\n",
       "      <td>2016</td>\n",
       "      <td>Nov Average</td>\n",
       "      <td>France</td>\n",
       "      <td>FRA</td>\n",
       "      <td>11</td>\n",
       "      <td>11-2016</td>\n",
       "    </tr>\n",
       "    <tr>\n",
       "      <th>311</th>\n",
       "      <td>18.7330</td>\n",
       "      <td>2016</td>\n",
       "      <td>Dec Average</td>\n",
       "      <td>France</td>\n",
       "      <td>FRA</td>\n",
       "      <td>12</td>\n",
       "      <td>12-2016</td>\n",
       "    </tr>\n",
       "  </tbody>\n",
       "</table>\n",
       "<p>2784 rows × 7 columns</p>\n",
       "</div>"
      ],
      "text/plain": [
       "     Rainfall - (MM)   Year    Statistics  Country  ISO3  Month     Date\n",
       "0            40.9290   1901   Jan Average   France   FRA      1  01-1901\n",
       "1            34.7865   1901   Feb Average   France   FRA      2  02-1901\n",
       "2            90.9714   1901   Mar Average   France   FRA      3  03-1901\n",
       "3            83.1600   1901   Apr Average   France   FRA      4  04-1901\n",
       "4            42.6287   1901   May Average   France   FRA      5  05-1901\n",
       "..               ...    ...           ...      ...   ...    ...      ...\n",
       "307          24.9382   2016   Aug Average   France   FRA      8  08-2016\n",
       "308          39.8369   2016   Sep Average   France   FRA      9  09-2016\n",
       "309          61.6580   2016   Oct Average   France   FRA     10  10-2016\n",
       "310          95.7876   2016   Nov Average   France   FRA     11  11-2016\n",
       "311          18.7330   2016   Dec Average   France   FRA     12  12-2016\n",
       "\n",
       "[2784 rows x 7 columns]"
      ]
     },
     "execution_count": 12,
     "metadata": {},
     "output_type": "execute_result"
    }
   ],
   "source": [
    "df_pre"
   ]
  },
  {
   "cell_type": "code",
   "execution_count": 13,
   "metadata": {},
   "outputs": [],
   "source": [
    "df_des_fr['Date'] = df_des_fr[['Start Month','Year']].apply(lambda x: f'{x[0]:0>2}-{x[1]}', axis=1)\n",
    "\n",
    "df_pre['Désastre'] = df_pre['Date'].isin(list(df_des_fr['Date']))"
   ]
  },
  {
   "cell_type": "markdown",
   "metadata": {},
   "source": [
    "## Étape 4 : Visualisation\n",
    "\n",
    "Nous allons voir si on peut prédire une inondation avec la quantité de précipitation"
   ]
  },
  {
   "cell_type": "code",
   "execution_count": 14,
   "metadata": {},
   "outputs": [],
   "source": [
    "from sklearn.model_selection import train_test_split\n",
    "from sklearn.linear_model import LogisticRegression\n",
    "from sklearn.dummy import DummyClassifier\n",
    "from sklearn.metrics import accuracy_score, f1_score, confusion_matrix, recall_score\n",
    "\n",
    "import numpy as np"
   ]
  },
  {
   "cell_type": "code",
   "execution_count": 15,
   "metadata": {},
   "outputs": [
    {
     "data": {
      "image/png": "[encoded data removed]",
      "text/plain": [
       "<Figure size 720x720 with 1 Axes>"
      ]
     },
     "metadata": {
      "needs_background": "light"
     },
     "output_type": "display_data"
    }
   ],
   "source": [
    "df_pre.boxplot(['Rainfall - (MM)'], by=['Désastre'], figsize=(10,10))\n",
    "plt.show()"
   ]
  },
  {
   "cell_type": "markdown",
   "metadata": {},
   "source": [
    "On voit donc qu'il y a bien un écart entre les précipitations lorsqu'il y a un désastre et lorsqu'il n'y en a pas. Mais il y a également de grandes zones de recoupage."
   ]
  },
  {
   "cell_type": "code",
   "execution_count": 16,
   "metadata": {},
   "outputs": [],
   "source": [
    "from sklearn.ensemble import RandomForestClassifier"
   ]
  },
  {
   "cell_type": "code",
   "execution_count": 17,
   "metadata": {},
   "outputs": [],
   "source": [
    "X = df_pre['Rainfall - (MM)'].values.reshape(-1,1)\n",
    "Y = df_pre['Désastre'].values"
   ]
  },
  {
   "cell_type": "code",
   "execution_count": 18,
   "metadata": {},
   "outputs": [],
   "source": [
    "# On découpe la base de donnée\n",
    "X_train, X_test, y_train, y_test = train_test_split(X, Y,\\\n",
    "                                                    test_size=0.25,\\\n",
    "                                                    random_state=27)"
   ]
  },
  {
   "cell_type": "code",
   "execution_count": 19,
   "metadata": {},
   "outputs": [],
   "source": [
    "# On peut commencer par une simple régréssion linéaire\n",
    "lr = LogisticRegression(solver='liblinear').fit(X_train, y_train)\n",
    "lr_pred = lr.predict(X_test)"
   ]
  },
  {
   "cell_type": "code",
   "execution_count": 20,
   "metadata": {},
   "outputs": [
    {
     "data": {
      "text/plain": [
       "0.9655172413793104"
      ]
     },
     "execution_count": 20,
     "metadata": {},
     "output_type": "execute_result"
    }
   ],
   "source": [
    "accuracy_score(y_test, lr_pred)"
   ]
  },
  {
   "cell_type": "code",
   "execution_count": 21,
   "metadata": {},
   "outputs": [
    {
     "data": {
      "text/html": [
       "<div>\n",
       "<style scoped>\n",
       "    .dataframe tbody tr th:only-of-type {\n",
       "        vertical-align: middle;\n",
       "    }\n",
       "\n",
       "    .dataframe tbody tr th {\n",
       "        vertical-align: top;\n",
       "    }\n",
       "\n",
       "    .dataframe thead th {\n",
       "        text-align: right;\n",
       "    }\n",
       "</style>\n",
       "<table border=\"1\" class=\"dataframe\">\n",
       "  <thead>\n",
       "    <tr style=\"text-align: right;\">\n",
       "      <th></th>\n",
       "      <th>0</th>\n",
       "      <th>1</th>\n",
       "    </tr>\n",
       "  </thead>\n",
       "  <tbody>\n",
       "    <tr>\n",
       "      <th>0</th>\n",
       "      <td>672</td>\n",
       "      <td>0</td>\n",
       "    </tr>\n",
       "    <tr>\n",
       "      <th>1</th>\n",
       "      <td>24</td>\n",
       "      <td>0</td>\n",
       "    </tr>\n",
       "  </tbody>\n",
       "</table>\n",
       "</div>"
      ],
      "text/plain": [
       "     0  1\n",
       "0  672  0\n",
       "1   24  0"
      ]
     },
     "execution_count": 21,
     "metadata": {},
     "output_type": "execute_result"
    }
   ],
   "source": [
    "pd.DataFrame(confusion_matrix(y_test, lr_pred))"
   ]
  },
  {
   "cell_type": "markdown",
   "metadata": {},
   "source": [
    "Malheureusement, le nombre de désastres est très petit comparé au nombre total d'observations (ce qui est une bonne chose dans l'absolu :)).\n",
    "Mais cela fait qu'on se retrouve ici avec un gros problème de prédiction, la régression linéaire a préféré mettre tous les possiblités à 'Pas désastre'. \n",
    "C'est donc pas suffisant pour éstimer les désastres nous allons donc incorporer le mois du désastre. D'après cet article : (https://towardsdatascience.com/methods-for-dealing-with-imbalanced-data-5b761be45a18) les randoms forests sont plus adaptés pour les base de données déséquilibrées."
   ]
  },
  {
   "cell_type": "code",
   "execution_count": 22,
   "metadata": {},
   "outputs": [
    {
     "data": {
      "text/plain": [
       "<matplotlib.axes._subplots.AxesSubplot at 0x7f7ff7934e10>"
      ]
     },
     "execution_count": 22,
     "metadata": {},
     "output_type": "execute_result"
    },
    {
     "data": {
      "image/png": "[encoded data removed]",
      "text/plain": [
       "<Figure size 432x288 with 1 Axes>"
      ]
     },
     "metadata": {
      "needs_background": "light"
     },
     "output_type": "display_data"
    }
   ],
   "source": [
    "sns.countplot(df_pre['Month'], hue=df_pre['Désastre'])"
   ]
  },
  {
   "cell_type": "code",
   "execution_count": 23,
   "metadata": {},
   "outputs": [
    {
     "data": {
      "text/plain": [
       "0.985632183908046"
      ]
     },
     "execution_count": 23,
     "metadata": {},
     "output_type": "execute_result"
    }
   ],
   "source": [
    "X = df_pre[['Rainfall - (MM)', 'Month']].values.reshape(-1,1)\n",
    "\n",
    "# train model\n",
    "rfc = RandomForestClassifier(n_estimators=10).fit(X_train, y_train)\n",
    "\n",
    "# predict on test set\n",
    "rfc_pred = rfc.predict(X_test)\n",
    "\n",
    "accuracy_score(y_test, rfc_pred)"
   ]
  },
  {
   "cell_type": "code",
   "execution_count": 24,
   "metadata": {},
   "outputs": [
    {
     "data": {
      "text/html": [
       "<div>\n",
       "<style scoped>\n",
       "    .dataframe tbody tr th:only-of-type {\n",
       "        vertical-align: middle;\n",
       "    }\n",
       "\n",
       "    .dataframe tbody tr th {\n",
       "        vertical-align: top;\n",
       "    }\n",
       "\n",
       "    .dataframe thead th {\n",
       "        text-align: right;\n",
       "    }\n",
       "</style>\n",
       "<table border=\"1\" class=\"dataframe\">\n",
       "  <thead>\n",
       "    <tr style=\"text-align: right;\">\n",
       "      <th></th>\n",
       "      <th>0</th>\n",
       "      <th>1</th>\n",
       "    </tr>\n",
       "  </thead>\n",
       "  <tbody>\n",
       "    <tr>\n",
       "      <th>0</th>\n",
       "      <td>670</td>\n",
       "      <td>2</td>\n",
       "    </tr>\n",
       "    <tr>\n",
       "      <th>1</th>\n",
       "      <td>8</td>\n",
       "      <td>16</td>\n",
       "    </tr>\n",
       "  </tbody>\n",
       "</table>\n",
       "</div>"
      ],
      "text/plain": [
       "     0   1\n",
       "0  670   2\n",
       "1    8  16"
      ]
     },
     "execution_count": 24,
     "metadata": {},
     "output_type": "execute_result"
    }
   ],
   "source": [
    "pd.DataFrame(confusion_matrix(y_test, rfc_pred))"
   ]
  },
  {
   "cell_type": "code",
   "execution_count": 25,
   "metadata": {},
   "outputs": [
    {
     "data": {
      "text/plain": [
       "0.6666666666666666"
      ]
     },
     "execution_count": 25,
     "metadata": {},
     "output_type": "execute_result"
    }
   ],
   "source": [
    "recall_score(y_test, rfc_pred)"
   ]
  },
  {
   "cell_type": "markdown",
   "metadata": {},
   "source": [
    "On voit que la prédiction à bien mieux marché mais que le score 'recall' défini par le nombre de positif divisé par le nombre réel de positif et encore plutôt bas. Il faut donc concidérer d'autre facteur pour la prédiction."
   ]
  },
  {
   "cell_type": "code",
   "execution_count": null,
   "metadata": {},
   "outputs": [],
   "source": []
  }
 ],
 "metadata": {
  "kernelspec": {
   "display_name": "Python 3",
   "language": "python",
   "name": "python3"
  },
  "language_info": {
   "codemirror_mode": {
    "name": "ipython",
    "version": 3
   },
   "file_extension": ".py",
   "mimetype": "text/x-python",
   "name": "python",
   "nbconvert_exporter": "python",
   "pygments_lexer": "ipython3",
   "version": "3.7.6"
  }
 },
 "nbformat": 4,
 "nbformat_minor": 4
}
